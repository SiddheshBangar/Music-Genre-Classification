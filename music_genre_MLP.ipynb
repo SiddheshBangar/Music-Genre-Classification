{
 "cells": [
  {
   "cell_type": "code",
   "execution_count": 1,
   "metadata": {},
   "outputs": [],
   "source": [
    "import os\n",
    "import json\n",
    "import numpy as np\n",
    "import librosa\n",
    "import matplotlib.pyplot as plt\n",
    "from sklearn.model_selection import train_test_split\n",
    "import tensorflow as tf"
   ]
  },
  {
   "cell_type": "code",
   "execution_count": 2,
   "metadata": {},
   "outputs": [],
   "source": [
    "# Dataset location\n",
    "SOURCE_PATH = 'Dataset/Data/genres_original/'\n",
    "\n",
    "# Path to labels and processed data file, json format.\n",
    "JSON = 'datamlp.json'\n",
    "\n",
    "# Sampling rate.\n",
    "sr = 22050\n",
    "\n",
    "# Let's make sure all files have the same amount of samples, pick a duration under 30 seconds.\n",
    "TOTAL_SAMPLES = 29 * sr\n",
    "\n",
    "# The dataset contains 999 files. Lets make it bigger! \n",
    "# X amount of slices => X times more training examples.\n",
    "NUM_SLICES = 10\n",
    "\n",
    "SAMPLES_PER_SLICE = int(TOTAL_SAMPLES / NUM_SLICES)"
   ]
  },
  {
   "cell_type": "code",
   "execution_count": 3,
   "metadata": {},
   "outputs": [],
   "source": [
    "# Let's create a dictionary of labels and processed data.\n",
    "mydict = {\n",
    "    \"labels\": [],\n",
    "    \"mfcc\": []\n",
    "    }\n",
    "\n",
    "# Let's browse each file, slice it and generate the mfcc for each slice.\n",
    "for i, (dirpath, dirnames, filenames) in enumerate(os.walk(SOURCE_PATH)):\n",
    "    \n",
    "    for file in filenames:\n",
    "        song, sr = librosa.load(os.path.join(dirpath, file), duration=29)\n",
    "        \n",
    "        for s in range(NUM_SLICES):\n",
    "            start_sample = SAMPLES_PER_SLICE * s\n",
    "            end_sample = start_sample + SAMPLES_PER_SLICE\n",
    "            mfcc = librosa.feature.mfcc(y=song[start_sample:end_sample], sr=sr, n_mfcc=13)\n",
    "            mfcc = mfcc.T\n",
    "            mydict[\"labels\"].append(i-1)\n",
    "            mydict[\"mfcc\"].append(mfcc.tolist())\n",
    "\n",
    "# Let's write the dictionary in a json file.\n",
    "with open(JSON, 'w') as fp:\n",
    "    json.dump(mydict, fp)"
   ]
  },
  {
   "cell_type": "code",
   "execution_count": 4,
   "metadata": {},
   "outputs": [],
   "source": [
    "with open(JSON) as f:\n",
    "    data = json.load(f)\n",
    "fp.close()\n",
    "\n",
    "# Let's load our data into numpy arrays for TensorFlow compatibility.\n",
    "inputs = np.array(data[\"mfcc\"])\n",
    "targets = np.array(data[\"labels\"])"
   ]
  },
  {
   "cell_type": "code",
   "execution_count": 5,
   "metadata": {},
   "outputs": [
    {
     "data": {
      "text/plain": [
       "(9990, 125, 13)"
      ]
     },
     "execution_count": 5,
     "metadata": {},
     "output_type": "execute_result"
    }
   ],
   "source": [
    "# 9990 mfcc, 13 coefficients, 125 time frames per mfcc.\n",
    "inputs.shape"
   ]
  },
  {
   "cell_type": "code",
   "execution_count": 6,
   "metadata": {},
   "outputs": [],
   "source": [
    "inputs_train, inputs_test, targets_train, targets_test = train_test_split(inputs, targets, test_size=0.3)"
   ]
  },
  {
   "cell_type": "code",
   "execution_count": 7,
   "metadata": {},
   "outputs": [],
   "source": [
    "# Let's design the model architecture.\n",
    "model = tf.keras.models.Sequential([\n",
    "    tf.keras.layers.Flatten(input_shape=(inputs.shape[1], inputs.shape[2])),\n",
    "    tf.keras.layers.Dense(512, activation='relu'),\n",
    "    tf.keras.layers.Dense(512, activation='relu'),\n",
    "    tf.keras.layers.Dense(256, activation='relu'),\n",
    "    tf.keras.layers.Dense(128, activation='relu'), \n",
    "    tf.keras.layers.Dense(64, activation='relu'), \n",
    "    tf.keras.layers.Dense(len(np.unique(targets)), activation='softmax')\n",
    "])"
   ]
  },
  {
   "cell_type": "code",
   "execution_count": 8,
   "metadata": {},
   "outputs": [
    {
     "name": "stderr",
     "output_type": "stream",
     "text": [
      "C:\\Users\\User\\AppData\\Local\\Programs\\Python\\Python39\\lib\\site-packages\\tensorflow\\python\\keras\\optimizer_v2\\optimizer_v2.py:374: UserWarning: The `lr` argument is deprecated, use `learning_rate` instead.\n",
      "  warnings.warn(\n"
     ]
    }
   ],
   "source": [
    "# Selection of the optimizer, loss type and metrics for performance evaluation.\n",
    "model.compile(optimizer = tf.keras.optimizers.RMSprop(lr=0.001),loss='sparse_categorical_crossentropy',metrics = ['acc'])"
   ]
  },
  {
   "cell_type": "code",
   "execution_count": 9,
   "metadata": {},
   "outputs": [
    {
     "name": "stdout",
     "output_type": "stream",
     "text": [
      "Model: \"sequential\"\n",
      "_________________________________________________________________\n",
      "Layer (type)                 Output Shape              Param #   \n",
      "=================================================================\n",
      "flatten (Flatten)            (None, 1625)              0         \n",
      "_________________________________________________________________\n",
      "dense (Dense)                (None, 512)               832512    \n",
      "_________________________________________________________________\n",
      "dense_1 (Dense)              (None, 512)               262656    \n",
      "_________________________________________________________________\n",
      "dense_2 (Dense)              (None, 256)               131328    \n",
      "_________________________________________________________________\n",
      "dense_3 (Dense)              (None, 128)               32896     \n",
      "_________________________________________________________________\n",
      "dense_4 (Dense)              (None, 64)                8256      \n",
      "_________________________________________________________________\n",
      "dense_5 (Dense)              (None, 10)                650       \n",
      "=================================================================\n",
      "Total params: 1,268,298\n",
      "Trainable params: 1,268,298\n",
      "Non-trainable params: 0\n",
      "_________________________________________________________________\n"
     ]
    }
   ],
   "source": [
    "model.summary()"
   ]
  },
  {
   "cell_type": "code",
   "execution_count": 10,
   "metadata": {},
   "outputs": [
    {
     "name": "stdout",
     "output_type": "stream",
     "text": [
      "Epoch 1/50\n",
      "219/219 [==============================] - 11s 34ms/step - loss: 6.4800 - acc: 0.2591 - val_loss: 1.9092 - val_acc: 0.3383\n",
      "Epoch 2/50\n",
      "219/219 [==============================] - 7s 34ms/step - loss: 1.7744 - acc: 0.3765 - val_loss: 1.7768 - val_acc: 0.3790\n",
      "Epoch 3/50\n",
      "219/219 [==============================] - 7s 34ms/step - loss: 1.5790 - acc: 0.4350 - val_loss: 1.6056 - val_acc: 0.4328\n",
      "Epoch 4/50\n",
      "219/219 [==============================] - 7s 34ms/step - loss: 1.4625 - acc: 0.4836 - val_loss: 2.1366 - val_acc: 0.4121\n",
      "Epoch 5/50\n",
      "219/219 [==============================] - 7s 34ms/step - loss: 1.3644 - acc: 0.5152 - val_loss: 1.4378 - val_acc: 0.4658\n",
      "Epoch 6/50\n",
      "219/219 [==============================] - 7s 34ms/step - loss: 1.2962 - acc: 0.5558 - val_loss: 1.6760 - val_acc: 0.5022\n",
      "Epoch 7/50\n",
      "219/219 [==============================] - 8s 35ms/step - loss: 1.2062 - acc: 0.5763 - val_loss: 1.3814 - val_acc: 0.5389\n",
      "Epoch 8/50\n",
      "219/219 [==============================] - 8s 35ms/step - loss: 1.1616 - acc: 0.5983 - val_loss: 1.3645 - val_acc: 0.5579\n",
      "Epoch 9/50\n",
      "219/219 [==============================] - 7s 34ms/step - loss: 1.1292 - acc: 0.6166 - val_loss: 1.2488 - val_acc: 0.5736\n",
      "Epoch 10/50\n",
      "219/219 [==============================] - 8s 35ms/step - loss: 1.0710 - acc: 0.6316 - val_loss: 1.9056 - val_acc: 0.4972\n",
      "Epoch 11/50\n",
      "219/219 [==============================] - 8s 35ms/step - loss: 1.0642 - acc: 0.6442 - val_loss: 1.3413 - val_acc: 0.5832\n",
      "Epoch 12/50\n",
      "219/219 [==============================] - 8s 35ms/step - loss: 1.0165 - acc: 0.6578 - val_loss: 1.8036 - val_acc: 0.5239\n",
      "Epoch 13/50\n",
      "219/219 [==============================] - 8s 36ms/step - loss: 0.9821 - acc: 0.6758 - val_loss: 1.5342 - val_acc: 0.5762\n",
      "Epoch 14/50\n",
      "219/219 [==============================] - 8s 35ms/step - loss: 0.9536 - acc: 0.6908 - val_loss: 1.5707 - val_acc: 0.5485\n",
      "Epoch 15/50\n",
      "219/219 [==============================] - 8s 35ms/step - loss: 0.9101 - acc: 0.6971 - val_loss: 1.9382 - val_acc: 0.5966\n",
      "Epoch 16/50\n",
      "219/219 [==============================] - 8s 34ms/step - loss: 0.9489 - acc: 0.7001 - val_loss: 1.8929 - val_acc: 0.6036\n",
      "Epoch 17/50\n",
      "219/219 [==============================] - 7s 34ms/step - loss: 0.8823 - acc: 0.7140 - val_loss: 1.5581 - val_acc: 0.6236\n",
      "Epoch 18/50\n",
      "219/219 [==============================] - 8s 36ms/step - loss: 0.8775 - acc: 0.7243 - val_loss: 1.9682 - val_acc: 0.5956\n",
      "Epoch 19/50\n",
      "219/219 [==============================] - 7s 34ms/step - loss: 0.8594 - acc: 0.7376 - val_loss: 2.1925 - val_acc: 0.5843\n",
      "Epoch 20/50\n",
      "219/219 [==============================] - 8s 35ms/step - loss: 0.8328 - acc: 0.7340 - val_loss: 1.9453 - val_acc: 0.6009\n",
      "Epoch 21/50\n",
      "219/219 [==============================] - 8s 35ms/step - loss: 0.8032 - acc: 0.7470 - val_loss: 2.1488 - val_acc: 0.5709\n",
      "Epoch 22/50\n",
      "219/219 [==============================] - 8s 35ms/step - loss: 0.8060 - acc: 0.7535 - val_loss: 3.8543 - val_acc: 0.5953\n",
      "Epoch 23/50\n",
      "219/219 [==============================] - 8s 34ms/step - loss: 0.8597 - acc: 0.7596 - val_loss: 2.0158 - val_acc: 0.5989\n",
      "Epoch 24/50\n",
      "219/219 [==============================] - 8s 34ms/step - loss: 0.7597 - acc: 0.7692 - val_loss: 2.8642 - val_acc: 0.5586\n",
      "Epoch 25/50\n",
      "219/219 [==============================] - 7s 34ms/step - loss: 0.7635 - acc: 0.7653 - val_loss: 2.6756 - val_acc: 0.6330\n",
      "Epoch 26/50\n",
      "219/219 [==============================] - 8s 35ms/step - loss: 0.7751 - acc: 0.7648 - val_loss: 3.4152 - val_acc: 0.5609\n",
      "Epoch 27/50\n",
      "219/219 [==============================] - 8s 35ms/step - loss: 0.7726 - acc: 0.7809 - val_loss: 3.4148 - val_acc: 0.6096\n",
      "Epoch 28/50\n",
      "219/219 [==============================] - 8s 37ms/step - loss: 0.7583 - acc: 0.7781 - val_loss: 2.9683 - val_acc: 0.5826\n",
      "Epoch 29/50\n",
      "219/219 [==============================] - 8s 38ms/step - loss: 0.7461 - acc: 0.7841 - val_loss: 5.1690 - val_acc: 0.5913\n",
      "Epoch 30/50\n",
      "219/219 [==============================] - 8s 36ms/step - loss: 0.8821 - acc: 0.7738 - val_loss: 2.9223 - val_acc: 0.5736\n",
      "Epoch 31/50\n",
      "219/219 [==============================] - 8s 35ms/step - loss: 0.7564 - acc: 0.7836 - val_loss: 2.6303 - val_acc: 0.6316\n",
      "Epoch 32/50\n",
      "219/219 [==============================] - 7s 34ms/step - loss: 0.7892 - acc: 0.7756 - val_loss: 3.6872 - val_acc: 0.5612\n",
      "Epoch 33/50\n",
      "219/219 [==============================] - 8s 34ms/step - loss: 0.7398 - acc: 0.7866 - val_loss: 2.7705 - val_acc: 0.5372\n",
      "Epoch 34/50\n",
      "219/219 [==============================] - 8s 35ms/step - loss: 0.9017 - acc: 0.7809 - val_loss: 3.0133 - val_acc: 0.6256\n",
      "Epoch 35/50\n",
      "219/219 [==============================] - 8s 35ms/step - loss: 0.7958 - acc: 0.7832 - val_loss: 3.4580 - val_acc: 0.5976\n",
      "Epoch 36/50\n",
      "219/219 [==============================] - 7s 34ms/step - loss: 0.7755 - acc: 0.7878 - val_loss: 2.8044 - val_acc: 0.6083\n",
      "Epoch 37/50\n",
      "219/219 [==============================] - 8s 35ms/step - loss: 0.7586 - acc: 0.8007 - val_loss: 5.1450 - val_acc: 0.5669\n",
      "Epoch 38/50\n",
      "219/219 [==============================] - 7s 34ms/step - loss: 0.6830 - acc: 0.7959 - val_loss: 3.2167 - val_acc: 0.5959\n",
      "Epoch 39/50\n",
      "219/219 [==============================] - 7s 34ms/step - loss: 0.8111 - acc: 0.7985 - val_loss: 2.4955 - val_acc: 0.6193\n",
      "Epoch 40/50\n",
      "219/219 [==============================] - 8s 34ms/step - loss: 0.7591 - acc: 0.8028 - val_loss: 4.0332 - val_acc: 0.5829\n",
      "Epoch 41/50\n",
      "219/219 [==============================] - 8s 35ms/step - loss: 0.8619 - acc: 0.7909 - val_loss: 3.4129 - val_acc: 0.6146\n",
      "Epoch 42/50\n",
      "219/219 [==============================] - 7s 34ms/step - loss: 0.7713 - acc: 0.7912 - val_loss: 9.5281 - val_acc: 0.4641\n",
      "Epoch 43/50\n",
      "219/219 [==============================] - 7s 34ms/step - loss: 0.8454 - acc: 0.7849 - val_loss: 3.3729 - val_acc: 0.5729\n",
      "Epoch 44/50\n",
      "219/219 [==============================] - 8s 36ms/step - loss: 0.7750 - acc: 0.7932 - val_loss: 5.0837 - val_acc: 0.5819\n",
      "Epoch 45/50\n",
      "219/219 [==============================] - 8s 34ms/step - loss: 0.7733 - acc: 0.7899 - val_loss: 4.9676 - val_acc: 0.6109\n",
      "Epoch 46/50\n",
      "219/219 [==============================] - 8s 34ms/step - loss: 0.8495 - acc: 0.7916 - val_loss: 2.7702 - val_acc: 0.5639\n",
      "Epoch 47/50\n",
      "219/219 [==============================] - 8s 37ms/step - loss: 0.7155 - acc: 0.8001 - val_loss: 4.1858 - val_acc: 0.5689\n",
      "Epoch 48/50\n",
      "219/219 [==============================] - 7s 34ms/step - loss: 0.8606 - acc: 0.7776 - val_loss: 4.6605 - val_acc: 0.5169\n",
      "Epoch 49/50\n",
      "219/219 [==============================] - 7s 34ms/step - loss: 0.9003 - acc: 0.7728 - val_loss: 3.9392 - val_acc: 0.5989\n",
      "Epoch 50/50\n",
      "219/219 [==============================] - 7s 34ms/step - loss: 0.9382 - acc: 0.7520 - val_loss: 5.7906 - val_acc: 0.4528\n"
     ]
    }
   ],
   "source": [
    "#Training the model.\n",
    "history = model.fit(inputs_train, targets_train, validation_data=(inputs_test, targets_test), epochs=50,batch_size=32)"
   ]
  },
  {
   "cell_type": "code",
   "execution_count": 11,
   "metadata": {},
   "outputs": [
    {
     "data": {
      "image/png": "[encoded data removed]",
      "text/plain": [
       "<Figure size 432x288 with 1 Axes>"
      ]
     },
     "metadata": {
      "needs_background": "light"
     },
     "output_type": "display_data"
    },
    {
     "data": {
      "image/png": "[encoded data removed]",
      "text/plain": [
       "<Figure size 432x288 with 1 Axes>"
      ]
     },
     "metadata": {
      "needs_background": "light"
     },
     "output_type": "display_data"
    }
   ],
   "source": [
    "acc = history.history['acc']\n",
    "val_acc = history.history['val_acc']\n",
    "loss = history.history['loss']\n",
    "val_loss = history.history['val_loss']\n",
    "\n",
    "epochs = range(len(acc))\n",
    "\n",
    "plt.plot(epochs, acc, 'r', label='Training accuracy')\n",
    "plt.plot(epochs, val_acc, 'b', label='Validation accuracy')\n",
    "plt.title('Training and validation accuracy')\n",
    "plt.legend()\n",
    "plt.figure()\n",
    "\n",
    "plt.plot(epochs, loss, 'r', label='Training Loss')\n",
    "plt.plot(epochs, val_loss, 'b', label='Validation Loss')\n",
    "plt.title('Training and validation loss')\n",
    "plt.legend()\n",
    "\n",
    "plt.show()"
   ]
  }
 ],
 "metadata": {
  "interpreter": {
   "hash": "2647ea34e536f865ab67ff9ddee7fd78773d956cec0cab53c79b32cd10da5d83"
  },
  "kernelspec": {
   "display_name": "Python 3.9.5 64-bit",
   "name": "python3"
  },
  "language_info": {
   "codemirror_mode": {
    "name": "ipython",
    "version": 3
   },
   "file_extension": ".py",
   "mimetype": "text/x-python",
   "name": "python",
   "nbconvert_exporter": "python",
   "pygments_lexer": "ipython3",
   "version": "3.9.5"
  },
  "orig_nbformat": 4
 },
 "nbformat": 4,
 "nbformat_minor": 2
}
