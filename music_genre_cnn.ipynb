{
 "cells": [
  {
   "cell_type": "code",
   "execution_count": 1,
   "metadata": {},
   "outputs": [],
   "source": [
    "import os\n",
    "import json\n",
    "import numpy as np\n",
    "import librosa\n",
    "import matplotlib.pyplot as plt\n",
    "from sklearn.model_selection import train_test_split\n",
    "import tensorflow as tf"
   ]
  },
  {
   "cell_type": "code",
   "execution_count": 2,
   "metadata": {},
   "outputs": [],
   "source": [
    "# Dataset location\n",
    "SOURCE_PATH = 'Dataset/Data/genres_original/'\n",
    "\n",
    "# Path to labels and processed data file, json format.\n",
    "JSON_PATH = 'data.json'\n",
    "\n",
    "# Sampling rate.\n",
    "sr = 22050\n",
    "\n",
    "# Let's make sure all files have the same amount of samples, pick a duration right under 30 seconds.\n",
    "TOTAL_SAMPLES = 29 * sr\n",
    "\n",
    "# The dataset contains 999 files. Lets make it bigger. \n",
    "# X amount of slices => X times more training examples.\n",
    "NUM_SLICES = 10\n",
    "SAMPLES_PER_SLICE = int(TOTAL_SAMPLES / NUM_SLICES)"
   ]
  },
  {
   "cell_type": "code",
   "execution_count": 3,
   "metadata": {},
   "outputs": [],
   "source": [
    "def preprocess_data(source_path, json_path):\n",
    "\n",
    "    # Let's create a dictionary of labels and processed data.\n",
    "    mydict = {\n",
    "        \"labels\": [],\n",
    "        \"mfcc\": []\n",
    "        }\n",
    "\n",
    "    # Let's browse each file, slice it and generate the 13 band mfcc for each slice.\n",
    "    for i, (dirpath, dirnames, filenames) in enumerate(os.walk(source_path)):\n",
    "\n",
    "        for file in filenames:\n",
    "            song, sr = librosa.load(os.path.join(dirpath, file), duration=29)\n",
    "\n",
    "            for s in range(NUM_SLICES):\n",
    "                start_sample = SAMPLES_PER_SLICE * s\n",
    "                end_sample = start_sample + SAMPLES_PER_SLICE\n",
    "                mfcc = librosa.feature.mfcc(y=song[start_sample:end_sample], sr=sr, n_mfcc=13)\n",
    "                mfcc = mfcc.T\n",
    "                mydict[\"labels\"].append(i-1)\n",
    "                mydict[\"mfcc\"].append(mfcc.tolist())\n",
    "\n",
    "    # Let's write the dictionary in a json file.    \n",
    "    with open(json_path, 'w') as f:\n",
    "        json.dump(mydict, f)\n",
    "    f.close()"
   ]
  },
  {
   "cell_type": "code",
   "execution_count": 4,
   "metadata": {},
   "outputs": [],
   "source": [
    "def load_data(json_path):\n",
    "\n",
    "    with open(json_path, 'r') as f:\n",
    "        data = json.load(f)\n",
    "    f.close()\n",
    "\n",
    "    # Let's load our data into numpy arrays for TensorFlow compatibility.\n",
    "    X = np.array(data[\"mfcc\"])\n",
    "    y = np.array(data[\"labels\"])\n",
    "\n",
    "    return X, y"
   ]
  },
  {
   "cell_type": "code",
   "execution_count": 5,
   "metadata": {},
   "outputs": [],
   "source": [
    "def prepare_datasets(inputs, targets, split_size):\n",
    "    \n",
    "    # Creating a validation set and a test set.\n",
    "    inputs_train, inputs_val, targets_train, targets_val = train_test_split(inputs, targets, test_size=split_size)\n",
    "    inputs_train, inputs_test, targets_train, targets_test = train_test_split(inputs_train, targets_train, test_size=split_size)\n",
    "    \n",
    "    # Our CNN model expects 3D input shape.\n",
    "    inputs_train = inputs_train[..., np.newaxis]\n",
    "    inputs_val = inputs_val[..., np.newaxis]\n",
    "    inputs_test = inputs_test[..., np.newaxis]\n",
    "    \n",
    "    return inputs_train, inputs_val, inputs_test, targets_train, targets_val, targets_test"
   ]
  },
  {
   "cell_type": "code",
   "execution_count": 6,
   "metadata": {},
   "outputs": [],
   "source": [
    "def design_model(input_shape):\n",
    "\n",
    "    # Let's design the model architecture.\n",
    "    model = tf.keras.models.Sequential([\n",
    "        \n",
    "        tf.keras.layers.Conv2D(32, (3,3), activation='relu', input_shape=input_shape),\n",
    "        tf.keras.layers.MaxPooling2D((3,3), strides=(2,2), padding='same'),\n",
    "        tf.keras.layers.BatchNormalization(),\n",
    "        \n",
    "        tf.keras.layers.Conv2D(32, (3,3), activation='relu'),\n",
    "        tf.keras.layers.MaxPooling2D((3,3), strides=(2,2), padding='same'),\n",
    "        tf.keras.layers.BatchNormalization(),\n",
    "        \n",
    "        tf.keras.layers.Conv2D(32, (2,2), activation='relu'),\n",
    "        tf.keras.layers.MaxPooling2D((3,3), strides=(2,2), padding='same'),\n",
    "        tf.keras.layers.BatchNormalization(),\n",
    "        tf.keras.layers.Dropout(0.3),\n",
    "        \n",
    "        tf.keras.layers.Flatten(),\n",
    "        tf.keras.layers.Dense(64, activation='relu'), \n",
    "        tf.keras.layers.Dense(len(np.unique(targets)), activation='softmax')\n",
    "    ])\n",
    "\n",
    "    return model"
   ]
  },
  {
   "cell_type": "code",
   "execution_count": 7,
   "metadata": {},
   "outputs": [],
   "source": [
    "def make_prediction(model, X, y, idx):\n",
    "    \n",
    "    genre_dict = {\n",
    "        0 : \"blues\",\n",
    "        1 : \"classical\",\n",
    "        2 : \"country\",\n",
    "        3 : \"disco\",\n",
    "        4 : \"hiphop\",\n",
    "        5 : \"jazz\",\n",
    "        6 : \"metal\",\n",
    "        7 : \"pop\",\n",
    "        8 : \"reggae\",\n",
    "        9 : \"rock\",\n",
    "        }\n",
    "        \n",
    "    predictions = model.predict(X)\n",
    "    genre = np.argmax(predictions[idx])\n",
    "    \n",
    "    print(\"\\n---Now testing the model for one audio file---\\nThe model predicts: {}, and ground truth is: {}.\\n\".format(genre_dict[genre], genre_dict[y[idx]]))"
   ]
  },
  {
   "cell_type": "code",
   "execution_count": 8,
   "metadata": {},
   "outputs": [],
   "source": [
    "def plot_performance(hist):\n",
    "    \n",
    "    acc = hist.history['acc']\n",
    "    val_acc = hist.history['val_acc']\n",
    "    loss = hist.history['loss']\n",
    "    val_loss = hist.history['val_loss']\n",
    "\n",
    "    epochs = range(len(acc))\n",
    "\n",
    "    plt.plot(epochs, acc, 'r', label='Training accuracy')\n",
    "    plt.plot(epochs, val_acc, 'b', label='Validation accuracy')\n",
    "    plt.title('Training and validation accuracy')\n",
    "    plt.legend()\n",
    "    plt.figure()\n",
    "\n",
    "    plt.plot(epochs, loss, 'r', label='Training Loss')\n",
    "    plt.plot(epochs, val_loss, 'b', label='Validation Loss')\n",
    "    plt.title('Training and validation loss')\n",
    "    plt.legend()\n",
    "\n",
    "    plt.show()"
   ]
  },
  {
   "cell_type": "code",
   "execution_count": 9,
   "metadata": {},
   "outputs": [
    {
     "name": "stderr",
     "output_type": "stream",
     "text": [
      "C:\\Users\\User\\AppData\\Local\\Programs\\Python\\Python39\\lib\\site-packages\\tensorflow\\python\\keras\\optimizer_v2\\optimizer_v2.py:374: UserWarning: The `lr` argument is deprecated, use `learning_rate` instead.\n",
      "  warnings.warn(\n"
     ]
    },
    {
     "name": "stdout",
     "output_type": "stream",
     "text": [
      "Model: \"sequential\"\n",
      "_________________________________________________________________\n",
      "Layer (type)                 Output Shape              Param #   \n",
      "=================================================================\n",
      "conv2d (Conv2D)              (None, 123, 11, 32)       320       \n",
      "_________________________________________________________________\n",
      "max_pooling2d (MaxPooling2D) (None, 62, 6, 32)         0         \n",
      "_________________________________________________________________\n",
      "batch_normalization (BatchNo (None, 62, 6, 32)         128       \n",
      "_________________________________________________________________\n",
      "conv2d_1 (Conv2D)            (None, 60, 4, 32)         9248      \n",
      "_________________________________________________________________\n",
      "max_pooling2d_1 (MaxPooling2 (None, 30, 2, 32)         0         \n",
      "_________________________________________________________________\n",
      "batch_normalization_1 (Batch (None, 30, 2, 32)         128       \n",
      "_________________________________________________________________\n",
      "conv2d_2 (Conv2D)            (None, 29, 1, 32)         4128      \n",
      "_________________________________________________________________\n",
      "max_pooling2d_2 (MaxPooling2 (None, 15, 1, 32)         0         \n",
      "_________________________________________________________________\n",
      "batch_normalization_2 (Batch (None, 15, 1, 32)         128       \n",
      "_________________________________________________________________\n",
      "dropout (Dropout)            (None, 15, 1, 32)         0         \n",
      "_________________________________________________________________\n",
      "flatten (Flatten)            (None, 480)               0         \n",
      "_________________________________________________________________\n",
      "dense (Dense)                (None, 64)                30784     \n",
      "_________________________________________________________________\n",
      "dense_1 (Dense)              (None, 10)                650       \n",
      "=================================================================\n",
      "Total params: 45,514\n",
      "Trainable params: 45,322\n",
      "Non-trainable params: 192\n",
      "_________________________________________________________________\n",
      "Epoch 1/30\n",
      "200/200 [==============================] - 18s 70ms/step - loss: 1.5903 - acc: 0.4453 - val_loss: 1.8679 - val_acc: 0.3949\n",
      "Epoch 2/30\n",
      "200/200 [==============================] - 14s 68ms/step - loss: 1.1534 - acc: 0.5950 - val_loss: 1.1081 - val_acc: 0.5976\n",
      "Epoch 3/30\n",
      "200/200 [==============================] - 14s 70ms/step - loss: 0.9889 - acc: 0.6552 - val_loss: 1.2723 - val_acc: 0.5716\n",
      "Epoch 4/30\n",
      "200/200 [==============================] - 14s 72ms/step - loss: 0.8595 - acc: 0.6986 - val_loss: 0.9385 - val_acc: 0.6622\n",
      "Epoch 5/30\n",
      "200/200 [==============================] - 14s 72ms/step - loss: 0.7852 - acc: 0.7192 - val_loss: 0.9947 - val_acc: 0.6757\n",
      "Epoch 6/30\n",
      "200/200 [==============================] - 13s 65ms/step - loss: 0.7060 - acc: 0.7505 - val_loss: 1.6235 - val_acc: 0.5460\n",
      "Epoch 7/30\n",
      "200/200 [==============================] - 13s 66ms/step - loss: 0.6671 - acc: 0.7596 - val_loss: 0.7574 - val_acc: 0.7432\n",
      "Epoch 8/30\n",
      "200/200 [==============================] - 13s 66ms/step - loss: 0.6071 - acc: 0.7821 - val_loss: 0.9213 - val_acc: 0.6947\n",
      "Epoch 9/30\n",
      "200/200 [==============================] - 13s 65ms/step - loss: 0.5687 - acc: 0.8024 - val_loss: 0.8359 - val_acc: 0.7162\n",
      "Epoch 10/30\n",
      "200/200 [==============================] - 13s 66ms/step - loss: 0.5453 - acc: 0.8090 - val_loss: 0.7966 - val_acc: 0.7377\n",
      "Epoch 11/30\n",
      "200/200 [==============================] - 13s 66ms/step - loss: 0.5074 - acc: 0.8239 - val_loss: 0.8613 - val_acc: 0.7147\n",
      "Epoch 12/30\n",
      "200/200 [==============================] - 14s 70ms/step - loss: 0.4914 - acc: 0.8256 - val_loss: 0.8481 - val_acc: 0.7327\n",
      "Epoch 13/30\n",
      "200/200 [==============================] - 14s 70ms/step - loss: 0.4649 - acc: 0.8314 - val_loss: 0.7440 - val_acc: 0.7523\n",
      "Epoch 14/30\n",
      "200/200 [==============================] - 14s 70ms/step - loss: 0.4275 - acc: 0.8470 - val_loss: 0.7768 - val_acc: 0.7533\n",
      "Epoch 15/30\n",
      "200/200 [==============================] - 14s 70ms/step - loss: 0.4287 - acc: 0.8481 - val_loss: 0.7431 - val_acc: 0.7563\n",
      "Epoch 16/30\n",
      "200/200 [==============================] - 14s 69ms/step - loss: 0.3796 - acc: 0.8638 - val_loss: 0.8079 - val_acc: 0.7332\n",
      "Epoch 17/30\n",
      "200/200 [==============================] - 14s 71ms/step - loss: 0.3701 - acc: 0.8652 - val_loss: 0.8208 - val_acc: 0.7523\n",
      "Epoch 18/30\n",
      "200/200 [==============================] - 14s 69ms/step - loss: 0.3636 - acc: 0.8680 - val_loss: 0.9166 - val_acc: 0.7422\n",
      "Epoch 19/30\n",
      "200/200 [==============================] - 13s 66ms/step - loss: 0.3350 - acc: 0.8838 - val_loss: 0.8832 - val_acc: 0.7583\n",
      "Epoch 20/30\n",
      "200/200 [==============================] - 13s 64ms/step - loss: 0.3015 - acc: 0.8902 - val_loss: 0.8809 - val_acc: 0.7352\n",
      "Epoch 21/30\n",
      "200/200 [==============================] - 13s 65ms/step - loss: 0.3188 - acc: 0.8874 - val_loss: 0.6942 - val_acc: 0.7928\n",
      "Epoch 22/30\n",
      "200/200 [==============================] - 13s 65ms/step - loss: 0.3020 - acc: 0.8952 - val_loss: 0.7336 - val_acc: 0.7883\n",
      "Epoch 23/30\n",
      "200/200 [==============================] - 14s 70ms/step - loss: 0.2668 - acc: 0.9060 - val_loss: 0.8006 - val_acc: 0.7608\n",
      "Epoch 24/30\n",
      "200/200 [==============================] - 15s 77ms/step - loss: 0.2768 - acc: 0.9024 - val_loss: 0.7817 - val_acc: 0.7738\n",
      "Epoch 25/30\n",
      "200/200 [==============================] - 15s 74ms/step - loss: 0.2854 - acc: 0.8983 - val_loss: 0.8334 - val_acc: 0.7583\n",
      "Epoch 26/30\n",
      "200/200 [==============================] - 16s 78ms/step - loss: 0.2711 - acc: 0.9047 - val_loss: 0.9326 - val_acc: 0.7287\n",
      "Epoch 27/30\n",
      "200/200 [==============================] - 15s 77ms/step - loss: 0.2640 - acc: 0.9060 - val_loss: 0.8568 - val_acc: 0.7733\n",
      "Epoch 28/30\n",
      "200/200 [==============================] - 14s 71ms/step - loss: 0.2528 - acc: 0.9121 - val_loss: 0.9099 - val_acc: 0.7568\n",
      "Epoch 29/30\n",
      "200/200 [==============================] - 14s 72ms/step - loss: 0.2451 - acc: 0.9122 - val_loss: 0.9334 - val_acc: 0.7382\n",
      "Epoch 30/30\n",
      "200/200 [==============================] - 14s 72ms/step - loss: 0.2408 - acc: 0.9140 - val_loss: 0.8093 - val_acc: 0.7808\n"
     ]
    },
    {
     "data": {
      "image/png": "[encoded data removed]",
      "text/plain": [
       "<Figure size 432x288 with 1 Axes>"
      ]
     },
     "metadata": {
      "needs_background": "light"
     },
     "output_type": "display_data"
    },
    {
     "data": {
      "image/png": "[encoded data removed]",
      "text/plain": [
       "<Figure size 432x288 with 1 Axes>"
      ]
     },
     "metadata": {
      "needs_background": "light"
     },
     "output_type": "display_data"
    },
    {
     "name": "stdout",
     "output_type": "stream",
     "text": [
      "\n",
      "---Now testing the model for one audio file---\n",
      "The model predicts: metal, and ground truth is: jazz.\n",
      "\n"
     ]
    }
   ],
   "source": [
    "if __name__ == \"__main__\":\n",
    "\n",
    "    preprocess_data(source_path=SOURCE_PATH, json_path=JSON_PATH)\n",
    "    \n",
    "    inputs, targets = load_data(json_path=JSON_PATH)\n",
    "    \n",
    "    Xtrain, Xval, Xtest, ytrain, yval, ytest = prepare_datasets(inputs, targets, 0.2)\n",
    "\n",
    "    input_shape = (Xtrain.shape[1], Xtrain.shape[2], 1)\n",
    "    model = design_model(input_shape)\n",
    "\n",
    "    # Selection of the optimizer, loss type and metrics for performance evaluation.\n",
    "    model.compile(optimizer = tf.keras.optimizers.RMSprop(lr=0.001),loss='sparse_categorical_crossentropy',metrics = ['acc'])\n",
    "\n",
    "    model.summary()\n",
    "\n",
    "    #Training the model.\n",
    "    history = model.fit(Xtrain, ytrain,validation_data=(Xval, yval),epochs=30,batch_size=32)\n",
    "\n",
    "    plot_performance(history)\n",
    "\n",
    "    # Testing the model on never seen before data.\n",
    "    make_prediction(model, Xtest, ytest, 24)"
   ]
  }
 ],
 "metadata": {
  "interpreter": {
   "hash": "2647ea34e536f865ab67ff9ddee7fd78773d956cec0cab53c79b32cd10da5d83"
  },
  "kernelspec": {
   "display_name": "Python 3.9.5 64-bit",
   "name": "python3"
  },
  "language_info": {
   "codemirror_mode": {
    "name": "ipython",
    "version": 3
   },
   "file_extension": ".py",
   "mimetype": "text/x-python",
   "name": "python",
   "nbconvert_exporter": "python",
   "pygments_lexer": "ipython3",
   "version": "3.9.5"
  },
  "orig_nbformat": 4
 },
 "nbformat": 4,
 "nbformat_minor": 2
}
