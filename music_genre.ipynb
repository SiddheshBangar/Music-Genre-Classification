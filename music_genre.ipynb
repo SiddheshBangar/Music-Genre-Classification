{
 "cells": [
  {
   "cell_type": "code",
   "execution_count": 16,
   "source": [
    "from python_speech_features import mfcc # Mel Frequency Cepstral Co-efficients\r\n",
    "import scipy.io.wavfile as wav\r\n",
    "import numpy as np\r\n",
    "\r\n",
    "import os\r\n",
    "import pickle\r\n",
    "import random\r\n",
    "import operator"
   ],
   "outputs": [],
   "metadata": {}
  },
  {
   "cell_type": "code",
   "execution_count": 28,
   "source": [
    "# Function to perform actual distance calculations between features\r\n",
    "def distance(instance1, instance2, k):\r\n",
    "    distance = 0\r\n",
    "    en1 = instance1[0]\r\n",
    "    cn1 = instance1[1]\r\n",
    "    en2 = instance2[0]\r\n",
    "    cn2 = instance2[1]\r\n",
    "    distance += np.trace(np.dot(np.linalg.inv(cn2). cn1))\r\n",
    "    distance += np.log(np.linalg.det(cn2) - np.log(np.linalg.det(cn1)))\r\n",
    "    distance -= k\r\n",
    "    return distance"
   ],
   "outputs": [],
   "metadata": {}
  },
  {
   "cell_type": "code",
   "execution_count": 29,
   "source": [
    "#  Function to get the distance feature vectors and find neighbours\r\n",
    "def getNeighbors(trainingSet, instance, k):\r\n",
    "    distances = []\r\n",
    "    for x in range(len(trainingSet)):\r\n",
    "        dist = distance(trainingSet[x], instance, k) + distance(instance, trainingSet[x], k)\r\n",
    "        distances.append((trainingSet[x][2], dist))\r\n",
    "\r\n",
    "    distances.sort(key=operator.itemgetter(1))\r\n",
    "    neighbors = []\r\n",
    "    for x in range(k):\r\n",
    "        neighbors.append(distances[x][0])\r\n",
    "    \r\n",
    "    return neighbors"
   ],
   "outputs": [],
   "metadata": {}
  },
  {
   "cell_type": "code",
   "execution_count": 30,
   "source": [
    "# Identify the class of those neighbours \r\n",
    "def nearestClass(neighbors):\r\n",
    "    classVote = {}\r\n",
    "\r\n",
    "    for x in range(len(neighbors)):\r\n",
    "        response = neighbors[x]\r\n",
    "        if response in classVote:\r\n",
    "            classVote[response] += 1\r\n",
    "        else:\r\n",
    "            classVote[response] = 1\r\n",
    "\r\n",
    "    sorter = sorted(classVote.items(), key = operator.itemgetter(1), reverse=True)\r\n",
    "\r\n",
    "    return sorter[0][0]"
   ],
   "outputs": [],
   "metadata": {}
  },
  {
   "cell_type": "code",
   "execution_count": 31,
   "source": [
    "# Function to evaluate the model\r\n",
    "def getAccuracy(testSet, prediction):\r\n",
    "    correct = 0\r\n",
    "    for x in range(len(testSet)):\r\n",
    "        if testSet[x][-1] == predictions[x]:\r\n",
    "            correct += 1\r\n",
    "    \r\n",
    "    return (1.0 * correct) / len(testSet)"
   ],
   "outputs": [],
   "metadata": {}
  },
  {
   "cell_type": "code",
   "execution_count": 32,
   "source": [
    "# Directory for keeping the Dataset\r\n",
    "Directory = \"./Dataset/Data/genres_original/\""
   ],
   "outputs": [],
   "metadata": {}
  },
  {
   "cell_type": "code",
   "execution_count": 35,
   "source": [
    "# Binary File where we will collect all the features extracted using mfcc Mel Frequency Cepstral Co-efficients\r\n",
    "f = open(\"my.dat\", 'wb')\r\n",
    "\r\n",
    "i = 0\r\n",
    "\r\n",
    "for folder in os.listdir(Directory):\r\n",
    "    i += 1\r\n",
    "    if i == 11:\r\n",
    "        break\r\n",
    "    for file in os.listdir(Directory+folder):        \r\n",
    "        try:\r\n",
    "            (rate, sig) = wav.read(Directory+folder+\"/\"+file)\r\n",
    "            mfcc_feat = mfcc(sig, rate, winlen=0.020, appendEnergy=False)\r\n",
    "            covariance = np.cov(np.matrix.transpose(mfcc_feat))\r\n",
    "            mean_matrix = mfcc_feat.mean(0)\r\n",
    "            feature = (mean_matrix, covariance, i)\r\n",
    "            pickle.dump(feature, f)\r\n",
    "        except Exception as e:\r\n",
    "            print('Got an exception: ', e, ' in folder: ', folder, ' filename: ', file)        \r\n",
    "\r\n",
    "f.close()"
   ],
   "outputs": [],
   "metadata": {}
  },
  {
   "cell_type": "code",
   "execution_count": 36,
   "source": [
    "# Split the dataset into training and testing sets respectively\r\n",
    "dataset = []\r\n",
    "\r\n",
    "def loadDataset(filename, split, trSet, teSet):\r\n",
    "    with open('my.dat', 'rb') as f:\r\n",
    "        while True:\r\n",
    "            try:\r\n",
    "                dataset.append(pickle.load(f))\r\n",
    "            except EOFError:\r\n",
    "                f.close()\r\n",
    "                break\r\n",
    "    for x in range(len(dataset)):\r\n",
    "        if random.random() < split:\r\n",
    "            trSet.append(dataset[x])\r\n",
    "        else:\r\n",
    "            teSet.append(dataset[x])\r\n",
    "trainingSet = []\r\n",
    "testSet = []\r\n",
    "loadDataset('my.dat', 0.66, trainingSet, testSet)"
   ],
   "outputs": [],
   "metadata": {}
  },
  {
   "cell_type": "code",
   "execution_count": 38,
   "source": [
    "def distance(instance1 , instance2 , k ):\r\n",
    "    distance =0 \r\n",
    "    mm1 = instance1[0] \r\n",
    "    cm1 = instance1[1]\r\n",
    "    mm2 = instance2[0]\r\n",
    "    cm2 = instance2[1]\r\n",
    "    distance = np.trace(np.dot(np.linalg.inv(cm2), cm1)) \r\n",
    "    distance+=(np.dot(np.dot((mm2-mm1).transpose() , np.linalg.inv(cm2)) , mm2-mm1 )) \r\n",
    "    distance+= np.log(np.linalg.det(cm2)) - np.log(np.linalg.det(cm1))\r\n",
    "    distance-= k\r\n",
    "    return distance"
   ],
   "outputs": [],
   "metadata": {}
  },
  {
   "cell_type": "code",
   "execution_count": 39,
   "source": [
    "# making predictions using KNN\r\n",
    "leng = len(testSet)\r\n",
    "predictions = []\r\n",
    "for x in range(leng):\r\n",
    "    predictions.append(nearestClass(getNeighbors(trainingSet, testSet[x], 5)))\r\n",
    "\r\n",
    "accuracy1 = getAccuracy(testSet, predictions)\r\n",
    "print(accuracy1)"
   ],
   "outputs": [
    {
     "output_type": "stream",
     "name": "stdout",
     "text": [
      "0.675\n"
     ]
    }
   ],
   "metadata": {}
  },
  {
   "cell_type": "code",
   "execution_count": 51,
   "source": [
    "# testing the code with external samples\r\n",
    "\r\n",
    "test_dir = \"./Test/\"\r\n",
    "# test_file = test_dir + \"test.wav\"\r\n",
    "test_file = test_dir + \"test2.wav\"\r\n",
    "# test_file = test_dir + \"test4.wav\""
   ],
   "outputs": [],
   "metadata": {}
  },
  {
   "cell_type": "code",
   "execution_count": 52,
   "source": [
    "(rate, sig) = wav.read(test_file)\r\n",
    "mfcc_feat = mfcc(sig, rate, winlen=0.020, appendEnergy=False)\r\n",
    "covariance = np.cov(np.matrix.transpose(mfcc_feat))\r\n",
    "mean_matrix = mfcc_feat.mean(0)\r\n",
    "feature = (mean_matrix, covariance, i)"
   ],
   "outputs": [],
   "metadata": {}
  },
  {
   "cell_type": "code",
   "execution_count": 53,
   "source": [
    "from collections import defaultdict\r\n",
    "results = defaultdict(int)\r\n",
    "\r\n",
    "directory = \"./Dataset/Data/genres_original/\"\r\n",
    "\r\n",
    "i = 1\r\n",
    "for folder in os.listdir(directory):\r\n",
    "    results[i] = folder\r\n",
    "    i += 1"
   ],
   "outputs": [],
   "metadata": {}
  },
  {
   "cell_type": "code",
   "execution_count": 54,
   "source": [
    "pred = nearestClass(getNeighbors(dataset, feature, 5))\r\n",
    "print(results[pred])"
   ],
   "outputs": [
    {
     "output_type": "stream",
     "name": "stdout",
     "text": [
      "jazz\n"
     ]
    }
   ],
   "metadata": {}
  }
 ],
 "metadata": {
  "orig_nbformat": 4,
  "language_info": {
   "name": "python",
   "version": "3.7.9",
   "mimetype": "text/x-python",
   "codemirror_mode": {
    "name": "ipython",
    "version": 3
   },
   "pygments_lexer": "ipython3",
   "nbconvert_exporter": "python",
   "file_extension": ".py"
  },
  "kernelspec": {
   "name": "python3",
   "display_name": "Python 3.7.9 64-bit ('base': conda)"
  },
  "interpreter": {
   "hash": "97ae724bfa85b9b34df7982b8bb8c7216f435b92902d749e4263f71162bea840"
  }
 },
 "nbformat": 4,
 "nbformat_minor": 2
}