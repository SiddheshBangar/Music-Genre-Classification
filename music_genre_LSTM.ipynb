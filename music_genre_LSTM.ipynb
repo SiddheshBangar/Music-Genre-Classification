{
 "cells": [
  {
   "cell_type": "code",
   "execution_count": 1,
   "metadata": {},
   "outputs": [],
   "source": [
    "import os\n",
    "import json\n",
    "import numpy as np\n",
    "import librosa\n",
    "import matplotlib.pyplot as plt\n",
    "from sklearn.model_selection import train_test_split\n",
    "import tensorflow as tf"
   ]
  },
  {
   "cell_type": "code",
   "execution_count": 2,
   "metadata": {},
   "outputs": [],
   "source": [
    "# Dataset location\n",
    "SOURCE_PATH = 'Dataset/Data/genres_original/'\n",
    "\n",
    "# Path to labels and processed data file, json format.\n",
    "JSON_PATH = 'datalstm.json'\n",
    "\n",
    "# Sampling rate.\n",
    "sr = 22050\n",
    "\n",
    "# Let's make sure all files have the same amount of samples, pick a duration right under 30 seconds.\n",
    "TOTAL_SAMPLES = 29 * sr\n",
    "\n",
    "# The dataset contains 999 files. Lets make it bigger. \n",
    "# X amount of slices => X times more training examples.\n",
    "NUM_SLICES = 10\n",
    "SAMPLES_PER_SLICE = int(TOTAL_SAMPLES / NUM_SLICES)"
   ]
  },
  {
   "cell_type": "code",
   "execution_count": 3,
   "metadata": {},
   "outputs": [],
   "source": [
    "def preprocess_data(source_path, json_path):\n",
    "\n",
    "    # Let's create a dictionary of labels and processed data.\n",
    "    mydict = {\n",
    "        \"labels\": [],\n",
    "        \"mfcc\": []\n",
    "        }\n",
    "\n",
    "    # Let's browse each file, slice it and generate the 13 band mfcc for each slice.\n",
    "    for i, (dirpath, dirnames, filenames) in enumerate(os.walk(source_path)):\n",
    "\n",
    "        for file in filenames:\n",
    "            song, sr = librosa.load(os.path.join(dirpath, file), duration=29)\n",
    "\n",
    "            for s in range(NUM_SLICES):\n",
    "                start_sample = SAMPLES_PER_SLICE * s\n",
    "                end_sample = start_sample + SAMPLES_PER_SLICE\n",
    "                mfcc = librosa.feature.mfcc(y=song[start_sample:end_sample], sr=sr, n_mfcc=13)\n",
    "                mfcc = mfcc.T\n",
    "                mydict[\"labels\"].append(i-1)\n",
    "                mydict[\"mfcc\"].append(mfcc.tolist())\n",
    "\n",
    "    # Let's write the dictionary in a json file.    \n",
    "    with open(json_path, 'w') as f:\n",
    "        json.dump(mydict, f)\n",
    "    f.close()"
   ]
  },
  {
   "cell_type": "code",
   "execution_count": 4,
   "metadata": {},
   "outputs": [],
   "source": [
    "def load_data(json_path):\n",
    "\n",
    "    with open(json_path, 'r') as f:\n",
    "        data = json.load(f)\n",
    "    f.close()\n",
    "\n",
    "    # Let's load our data into numpy arrays for TensorFlow compatibility.\n",
    "    X = np.array(data[\"mfcc\"])\n",
    "    y = np.array(data[\"labels\"])\n",
    "\n",
    "    return X, y"
   ]
  },
  {
   "cell_type": "code",
   "execution_count": 5,
   "metadata": {},
   "outputs": [],
   "source": [
    "def prepare_datasets(inputs, targets, split_size):\n",
    "    \n",
    "    # Creating a validation set and a test set.\n",
    "    inputs_train, inputs_val, targets_train, targets_val = train_test_split(inputs, targets, test_size=split_size)\n",
    "    inputs_train, inputs_test, targets_train, targets_test = train_test_split(inputs_train, targets_train, test_size=split_size)\n",
    "        \n",
    "    return inputs_train, inputs_val, inputs_test, targets_train, targets_val, targets_test"
   ]
  },
  {
   "cell_type": "code",
   "execution_count": 6,
   "metadata": {},
   "outputs": [],
   "source": [
    "def design_model(input_shape):\n",
    "\n",
    "    # Let's design the model architecture.\n",
    "    model = tf.keras.models.Sequential([\n",
    "        tf.keras.layers.LSTM(64, input_shape= input_shape, return_sequences=True),\n",
    "        tf.keras.layers.LSTM(64),\n",
    "        \n",
    "        tf.keras.layers.Dense(64, activation='relu'), \n",
    "        tf.keras.layers.Dropout(0.3),\n",
    "        \n",
    "        tf.keras.layers.Dense(len(np.unique(targets)), activation='softmax')\n",
    "    ])\n",
    "\n",
    "    return model"
   ]
  },
  {
   "cell_type": "code",
   "execution_count": 7,
   "metadata": {},
   "outputs": [],
   "source": [
    "def make_prediction(model, X, y, idx):\n",
    "    \n",
    "    genre_dict = {\n",
    "        0 : \"blues\",\n",
    "        1 : \"classical\",\n",
    "        2 : \"country\",\n",
    "        3 : \"disco\",\n",
    "        4 : \"hiphop\",\n",
    "        5 : \"jazz\",\n",
    "        6 : \"metal\",\n",
    "        7 : \"pop\",\n",
    "        8 : \"reggae\",\n",
    "        9 : \"rock\",\n",
    "        }\n",
    "        \n",
    "    predictions = model.predict(X)\n",
    "    genre = np.argmax(predictions[idx])\n",
    "    \n",
    "    print(\"\\n---Now testing the model for one audio file---\\nThe model predicts: {}, and ground truth is: {}.\\n\".format(genre_dict[genre], genre_dict[y[idx]]))"
   ]
  },
  {
   "cell_type": "code",
   "execution_count": 8,
   "metadata": {},
   "outputs": [],
   "source": [
    "def plot_performance(hist):\n",
    "    \n",
    "    acc = hist.history['acc']\n",
    "    val_acc = hist.history['val_acc']\n",
    "    loss = hist.history['loss']\n",
    "    val_loss = hist.history['val_loss']\n",
    "\n",
    "    epochs = range(len(acc))\n",
    "\n",
    "    plt.plot(epochs, acc, 'r', label='Training accuracy')\n",
    "    plt.plot(epochs, val_acc, 'b', label='Validation accuracy')\n",
    "    plt.title('Training and validation accuracy')\n",
    "    plt.legend()\n",
    "    plt.figure()\n",
    "\n",
    "    plt.plot(epochs, loss, 'r', label='Training Loss')\n",
    "    plt.plot(epochs, val_loss, 'b', label='Validation Loss')\n",
    "    plt.title('Training and validation loss')\n",
    "    plt.legend()\n",
    "\n",
    "    plt.show()"
   ]
  },
  {
   "cell_type": "code",
   "execution_count": 10,
   "metadata": {},
   "outputs": [
    {
     "name": "stdout",
     "output_type": "stream",
     "text": [
      "Model: \"sequential_1\"\n",
      "_________________________________________________________________\n",
      "Layer (type)                 Output Shape              Param #   \n",
      "=================================================================\n",
      "lstm_2 (LSTM)                (None, 125, 64)           19968     \n",
      "_________________________________________________________________\n",
      "lstm_3 (LSTM)                (None, 64)                33024     \n",
      "_________________________________________________________________\n",
      "dense_2 (Dense)              (None, 64)                4160      \n",
      "_________________________________________________________________\n",
      "dropout_1 (Dropout)          (None, 64)                0         \n",
      "_________________________________________________________________\n",
      "dense_3 (Dense)              (None, 10)                650       \n",
      "=================================================================\n",
      "Total params: 57,802\n",
      "Trainable params: 57,802\n",
      "Non-trainable params: 0\n",
      "_________________________________________________________________\n",
      "Epoch 1/30\n",
      "200/200 [==============================] - 35s 141ms/step - loss: 1.6952 - acc: 0.3904 - val_loss: 1.4442 - val_acc: 0.4900\n",
      "Epoch 2/30\n",
      "200/200 [==============================] - 27s 135ms/step - loss: 1.3857 - acc: 0.5135 - val_loss: 1.3198 - val_acc: 0.5140\n",
      "Epoch 3/30\n",
      "200/200 [==============================] - 28s 138ms/step - loss: 1.2565 - acc: 0.5626 - val_loss: 1.2249 - val_acc: 0.5601\n",
      "Epoch 4/30\n",
      "200/200 [==============================] - 28s 138ms/step - loss: 1.1569 - acc: 0.5975 - val_loss: 1.1924 - val_acc: 0.5766\n",
      "Epoch 5/30\n",
      "200/200 [==============================] - 28s 138ms/step - loss: 1.0881 - acc: 0.6230 - val_loss: 1.1011 - val_acc: 0.6181\n",
      "Epoch 6/30\n",
      "200/200 [==============================] - 28s 139ms/step - loss: 1.0236 - acc: 0.6495 - val_loss: 1.0677 - val_acc: 0.6171\n",
      "Epoch 7/30\n",
      "200/200 [==============================] - 28s 141ms/step - loss: 0.9604 - acc: 0.6679 - val_loss: 1.0851 - val_acc: 0.6086\n",
      "Epoch 8/30\n",
      "200/200 [==============================] - 29s 145ms/step - loss: 0.9114 - acc: 0.6848 - val_loss: 0.9544 - val_acc: 0.6672\n",
      "Epoch 9/30\n",
      "200/200 [==============================] - 29s 145ms/step - loss: 0.8506 - acc: 0.7047 - val_loss: 1.0191 - val_acc: 0.6572\n",
      "Epoch 10/30\n",
      "200/200 [==============================] - 30s 150ms/step - loss: 0.8231 - acc: 0.7191 - val_loss: 0.9152 - val_acc: 0.6742\n",
      "Epoch 11/30\n",
      "200/200 [==============================] - 30s 151ms/step - loss: 0.7839 - acc: 0.7295 - val_loss: 0.9035 - val_acc: 0.6852\n",
      "Epoch 12/30\n",
      "200/200 [==============================] - 30s 151ms/step - loss: 0.7339 - acc: 0.7499 - val_loss: 0.9005 - val_acc: 0.6837\n",
      "Epoch 13/30\n",
      "200/200 [==============================] - 29s 146ms/step - loss: 0.6957 - acc: 0.7665 - val_loss: 0.8845 - val_acc: 0.7017\n",
      "Epoch 14/30\n",
      "200/200 [==============================] - 30s 148ms/step - loss: 0.6697 - acc: 0.7771 - val_loss: 0.8414 - val_acc: 0.7217\n",
      "Epoch 15/30\n",
      "200/200 [==============================] - 30s 149ms/step - loss: 0.6246 - acc: 0.7880 - val_loss: 0.8529 - val_acc: 0.7157\n",
      "Epoch 16/30\n",
      "200/200 [==============================] - 32s 159ms/step - loss: 0.5974 - acc: 0.7979 - val_loss: 0.9192 - val_acc: 0.7117\n",
      "Epoch 17/30\n",
      "200/200 [==============================] - 31s 154ms/step - loss: 0.5762 - acc: 0.8085 - val_loss: 0.8381 - val_acc: 0.7212\n",
      "Epoch 18/30\n",
      "200/200 [==============================] - 31s 155ms/step - loss: 0.5415 - acc: 0.8176 - val_loss: 0.8013 - val_acc: 0.7417\n",
      "Epoch 19/30\n",
      "200/200 [==============================] - 30s 150ms/step - loss: 0.5284 - acc: 0.8221 - val_loss: 0.8160 - val_acc: 0.7372\n",
      "Epoch 20/30\n",
      "200/200 [==============================] - 31s 154ms/step - loss: 0.4936 - acc: 0.8347 - val_loss: 0.8902 - val_acc: 0.7202\n",
      "Epoch 21/30\n",
      "200/200 [==============================] - 30s 150ms/step - loss: 0.4837 - acc: 0.8339 - val_loss: 0.8441 - val_acc: 0.7442\n",
      "Epoch 22/30\n",
      "200/200 [==============================] - 30s 150ms/step - loss: 0.4486 - acc: 0.8539 - val_loss: 0.8613 - val_acc: 0.7322\n",
      "Epoch 23/30\n",
      "200/200 [==============================] - 30s 149ms/step - loss: 0.4398 - acc: 0.8542 - val_loss: 0.8499 - val_acc: 0.7462\n",
      "Epoch 24/30\n",
      "200/200 [==============================] - 30s 152ms/step - loss: 0.4294 - acc: 0.8567 - val_loss: 0.8459 - val_acc: 0.7467\n",
      "Epoch 25/30\n",
      "200/200 [==============================] - 30s 151ms/step - loss: 0.4115 - acc: 0.8684 - val_loss: 0.9087 - val_acc: 0.7392\n",
      "Epoch 26/30\n",
      "200/200 [==============================] - 31s 154ms/step - loss: 0.3891 - acc: 0.8724 - val_loss: 0.8819 - val_acc: 0.7558\n",
      "Epoch 27/30\n",
      "200/200 [==============================] - 30s 151ms/step - loss: 0.3773 - acc: 0.8730 - val_loss: 0.8672 - val_acc: 0.7553\n",
      "Epoch 28/30\n",
      "200/200 [==============================] - 31s 154ms/step - loss: 0.3673 - acc: 0.8835 - val_loss: 0.8655 - val_acc: 0.7608\n",
      "Epoch 29/30\n",
      "200/200 [==============================] - 31s 154ms/step - loss: 0.3481 - acc: 0.8872 - val_loss: 0.8605 - val_acc: 0.7623\n",
      "Epoch 30/30\n",
      "200/200 [==============================] - 31s 156ms/step - loss: 0.3401 - acc: 0.8878 - val_loss: 0.8314 - val_acc: 0.7683\n"
     ]
    },
    {
     "data": {
      "image/png": "[encoded data removed]",
      "text/plain": [
       "<Figure size 432x288 with 1 Axes>"
      ]
     },
     "metadata": {
      "needs_background": "light"
     },
     "output_type": "display_data"
    },
    {
     "data": {
      "image/png": "[encoded data removed]",
      "text/plain": [
       "<Figure size 432x288 with 1 Axes>"
      ]
     },
     "metadata": {
      "needs_background": "light"
     },
     "output_type": "display_data"
    },
    {
     "name": "stdout",
     "output_type": "stream",
     "text": [
      "\n",
      "---Now testing the model for one audio file---\n",
      "The model predicts: hiphop, and ground truth is: hiphop.\n",
      "\n"
     ]
    }
   ],
   "source": [
    "if __name__ == \"__main__\":\n",
    "\n",
    "    preprocess_data(source_path=SOURCE_PATH, json_path=JSON_PATH)\n",
    "    \n",
    "    inputs, targets = load_data(json_path=JSON_PATH)\n",
    "    \n",
    "    Xtrain, Xval, Xtest, ytrain, yval, ytest = prepare_datasets(inputs, targets, 0.2)\n",
    "\n",
    "    input_shape = (Xtrain.shape[1], Xtrain.shape[2])\n",
    "    model = design_model(input_shape)\n",
    "\n",
    "    # Selection of the optimizer, loss type and metrics for performance evaluation.\n",
    "    model.compile(optimizer = tf.keras.optimizers.RMSprop(lr=0.001),loss='sparse_categorical_crossentropy',metrics = ['acc'])\n",
    "\n",
    "    model.summary()\n",
    "\n",
    "    #Training the model.\n",
    "    history = model.fit(Xtrain, ytrain,validation_data=(Xval, yval),epochs=30,batch_size=32)\n",
    "\n",
    "    plot_performance(history)\n",
    "\n",
    "    # Testing the model on never seen before data.\n",
    "    make_prediction(model, Xtest, ytest, 24)"
   ]
  }
 ],
 "metadata": {
  "interpreter": {
   "hash": "2647ea34e536f865ab67ff9ddee7fd78773d956cec0cab53c79b32cd10da5d83"
  },
  "kernelspec": {
   "display_name": "Python 3.9.5 64-bit",
   "name": "python3"
  },
  "language_info": {
   "codemirror_mode": {
    "name": "ipython",
    "version": 3
   },
   "file_extension": ".py",
   "mimetype": "text/x-python",
   "name": "python",
   "nbconvert_exporter": "python",
   "pygments_lexer": "ipython3",
   "version": "3.9.5"
  },
  "orig_nbformat": 4
 },
 "nbformat": 4,
 "nbformat_minor": 2
}
